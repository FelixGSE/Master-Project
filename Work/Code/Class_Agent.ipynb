{
 "cells": [
  {
   "cell_type": "markdown",
   "metadata": {},
   "source": [
    "# 1) Import packages"
   ]
  },
  {
   "cell_type": "code",
   "execution_count": 2,
   "metadata": {
    "collapsed": true
   },
   "outputs": [],
   "source": [
    "import random as rd\n",
    "import numpy as np\n",
    "import os \n",
    "import json"
   ]
  },
  {
   "cell_type": "markdown",
   "metadata": {},
   "source": [
    "# 2) Load auxilliary functions"
   ]
  },
  {
   "cell_type": "code",
   "execution_count": 19,
   "metadata": {
    "collapsed": true
   },
   "outputs": [],
   "source": [
    "# Wrapper for sampling a single number with probability p\n",
    "def random_bool( p = 0.1 ):\n",
    "    number = np.random.binomial( 1 , p, 1 )\n",
    "    result = number.tolist()[0] \n",
    "    return result\n",
    "\n",
    "# Wrapper for N- normal random number with mean mu and variance sigma\n",
    "def rnorm( mu, sigma, N ):\n",
    "    number = np.random.normal(mu, sigma, N)\n",
    "    result = number.tolist()\n",
    "    return result"
   ]
  },
  {
   "cell_type": "markdown",
   "metadata": {},
   "source": [
    "# 3) Initialize class agent"
   ]
  },
  {
   "cell_type": "code",
   "execution_count": 3,
   "metadata": {
    "collapsed": true
   },
   "outputs": [],
   "source": [
    "class agent:\n",
    "    \n",
    "    # Set initial condition and default values\n",
    "    def __init__( self, alpha = 0.5, epsilon = 0.01, tau = 0.1 , mu = [0,0] , sigma = [1,1], \\\n",
    "                  decision_function = \"softmax\",init = None , time = 10, save = False ):\n",
    "        self.alpha = alpha\n",
    "        self.epsilon = epsilon\n",
    "        self.mu = mu\n",
    "        self.tau = tau\n",
    "        self.n_bandits = len(self.mu)\n",
    "        self.sigma = sigma\n",
    "        self.decision_function = decision_function\n",
    "        if init == None: \n",
    "            self.value_function = self.init_dict(range(self.n_bandits))\n",
    "        else:\n",
    "            self.value_function = self.init_dict(range(self.n_bandits),self.init)\n",
    "        self.choices = []\n",
    "        self.rewards = []\n",
    "        self.time = time\n",
    "        self.save = save\n",
    "    \n",
    "    # Init an empty dictionary with 0 or specified initial values\n",
    "    def init_dict(self, names , init_val = None ):\n",
    "        max_itter = len(names)\n",
    "        empty_dict = {}\n",
    "        if init_val == None:\n",
    "            init_val = [0] * max_itter\n",
    "        for i in range(max_itter):\n",
    "            temp_val = init_val[i]\n",
    "            temp_list = [temp_val]\n",
    "            temp_name = names[i]\n",
    "            temp = {temp_name:temp_list}\n",
    "            empty_dict.update(temp)\n",
    "        return empty_dict\n",
    "\n",
    "    # Create N-random bandits according to a Normal distribution with mean mu and variance sigma \n",
    "    # It returns a list of \n",
    "    def create_bandits(self, mu ,sigma, N ):\n",
    "        # \n",
    "        if len(mu) != len(sigma):\n",
    "            print \"Unsufficient parameter input\"\n",
    "            return None\n",
    "        n_bandit = len( mu )\n",
    "        casino = []\n",
    "        for i in range(n_bandit):\n",
    "            number = rnorm( mu[i] , sigma[i] , N )\n",
    "            casino.append(number)\n",
    "        return casino\n",
    "    \n",
    "    # Finds the current maximum value in a dictionary\n",
    "    def decide(self,value_dict ):\n",
    "        run_time = len(value_dict)\n",
    "        decission = []\n",
    "        for i in range(run_time):\n",
    "            temp = value_dict.get(i)[-1]\n",
    "            decission.append(temp)\n",
    "        index = decission.index(max(decission))\n",
    "        return index\n",
    "    \n",
    "    # Updates the dictionary\n",
    "    def update_dict(self, dic, next_choice, value, alpha ):\n",
    "        full_range = range(len(dic))\n",
    "        for key in full_range:\n",
    "            temp = dic.get(key)\n",
    "            if key == next_choice:\n",
    "                temp_val = temp[-1]\n",
    "                new_value = temp_val + alpha *( value - temp_val)\n",
    "                temp.append(new_value)\n",
    "            else:\n",
    "                temp_val = temp[-1]\n",
    "                temp.append(temp_val)\n",
    "            \n",
    "    # Start learning procedure\n",
    "    def learn(self, run_time = None ):\n",
    "        \n",
    "        if run_time == None:\n",
    "            run_time = self.time\n",
    "            \n",
    "        bandits = self.create_bandits( mu = self.mu, sigma = self.sigma, N = run_time )\n",
    "        choice_count = len( self.mu )\n",
    "        \n",
    "        \n",
    "        for step in range( run_time ):\n",
    "    \n",
    "            explore = random_bool( p = self.epsilon )\n",
    "\n",
    "            if explore == 1:\n",
    "               \n",
    "                choice = np.random.choice(choice_count)\n",
    "                reward = bandits[choice][step]\n",
    "                self.update_dict( self.value_function, choice, reward,self.alpha )\n",
    "                \n",
    "            else:\n",
    "                \n",
    "                optimal = self.decide( self.value_function )\n",
    "                reward = bandits[optimal][step]\n",
    "                self.update_dict( self.value_function, optimal, reward,self.alpha )\n",
    "               \n",
    "    # Save current state of the value function                   \n",
    "    def save_history( self, value_dict = None , name = None , path = None ):\n",
    "        if value_dict == None:\n",
    "            value_dict = self.value_function\n",
    "        if name == None:\n",
    "            # Prepare File name - Parameters\n",
    "            str_alpha = \"_alpha_\" + str(self.alpha)\n",
    "            str_epsilon = \"_epsilon_\" + str(self.epsilon)\n",
    "            file_type = \".txt\"\n",
    "            name = str_alpha + str_epsilon + file_type\n",
    "        if path == None:\n",
    "            path = os.getcwd()\n",
    "        value_file = path + name\n",
    "        json.dump(value_dict, file(value_file, 'w'))\n",
    "        \n",
    "    # Clear value function of the agent      \n",
    "    def re_init( self, init = None ):\n",
    "        if init == None: \n",
    "            self.value_function = self.init_dict(range(self.n_bandits))\n",
    "        else:\n",
    "            self.value_function = self.init_dict(range(self.n_bandits),self.init)\n",
    "     "
   ]
  },
  {
   "cell_type": "markdown",
   "metadata": {},
   "source": [
    "# 4) DEMO"
   ]
  },
  {
   "cell_type": "code",
   "execution_count": 4,
   "metadata": {
    "collapsed": false
   },
   "outputs": [
    {
     "data": {
      "text/plain": [
       "{0: [0,\n",
       "  0.20529088533038675,\n",
       "  1.0897459783812962,\n",
       "  1.5633481341889626,\n",
       "  1.2375730852676958,\n",
       "  1.2783302559596021,\n",
       "  2.595261904135506,\n",
       "  2.518821032720984,\n",
       "  1.8356021073765385,\n",
       "  2.317913822017384,\n",
       "  2.511202381936765,\n",
       "  3.0981224424722544,\n",
       "  2.209067481191311,\n",
       "  2.0855810243815585,\n",
       "  2.3722756543582184,\n",
       "  2.8293922762612835,\n",
       "  2.576157006509429,\n",
       "  2.0089682292613076,\n",
       "  2.0089682292613076,\n",
       "  2.0089682292613076,\n",
       "  2.0089682292613076],\n",
       " 1: [0,\n",
       "  0,\n",
       "  0,\n",
       "  0,\n",
       "  0,\n",
       "  0,\n",
       "  0,\n",
       "  0,\n",
       "  0,\n",
       "  0,\n",
       "  0,\n",
       "  0,\n",
       "  0,\n",
       "  0,\n",
       "  0,\n",
       "  0,\n",
       "  0,\n",
       "  0,\n",
       "  5.490751577067243,\n",
       "  7.036034023359788,\n",
       "  8.436989095067638]}"
      ]
     },
     "execution_count": 4,
     "metadata": {},
     "output_type": "execute_result"
    }
   ],
   "source": [
    "# Intitialize agent\n",
    "g=agent( mu = [2,10] )\n",
    "\n",
    "# \n",
    "g.learn(20)\n",
    "\n",
    "# Show the developement of the value function for each bandit\n",
    "g.value_function"
   ]
  },
  {
   "cell_type": "code",
   "execution_count": null,
   "metadata": {
    "collapsed": false
   },
   "outputs": [],
   "source": [
    "# Save current history\n",
    "g.save_history()"
   ]
  },
  {
   "cell_type": "code",
   "execution_count": null,
   "metadata": {
    "collapsed": false
   },
   "outputs": [],
   "source": [
    "# Re initialize \n",
    "g.re_init()\n",
    "g.value_function"
   ]
  },
  {
   "cell_type": "code",
   "execution_count": 2,
   "metadata": {
    "collapsed": false
   },
   "outputs": [
    {
     "data": {
      "text/plain": [
       "2.718281828459045"
      ]
     },
     "execution_count": 2,
     "metadata": {},
     "output_type": "execute_result"
    }
   ],
   "source": [
    "import math\n",
    "math.exp(1)"
   ]
  },
  {
   "cell_type": "code",
   "execution_count": 4,
   "metadata": {
    "collapsed": false
   },
   "outputs": [
    {
     "data": {
      "text/plain": [
       "2.7182818284590451"
      ]
     },
     "execution_count": 4,
     "metadata": {},
     "output_type": "execute_result"
    }
   ],
   "source": [
    "np.exp(1)"
   ]
  },
  {
   "cell_type": "code",
   "execution_count": 8,
   "metadata": {
    "collapsed": false
   },
   "outputs": [],
   "source": [
    "vec=rnorm(3,4,10)"
   ]
  },
  {
   "cell_type": "code",
   "execution_count": 4,
   "metadata": {
    "collapsed": false
   },
   "outputs": [],
   "source": [
    "a = np.array(np.array([1,2,3])) / 3."
   ]
  },
  {
   "cell_type": "code",
   "execution_count": 13,
   "metadata": {
    "collapsed": false
   },
   "outputs": [
    {
     "data": {
      "text/plain": [
       "array([ 0.33333333,  0.66666667,  1.        ])"
      ]
     },
     "execution_count": 13,
     "metadata": {},
     "output_type": "execute_result"
    }
   ],
   "source": [
    "a"
   ]
  },
  {
   "cell_type": "code",
   "execution_count": 12,
   "metadata": {
    "collapsed": true
   },
   "outputs": [],
   "source": [
    "def softmax( value_array, tau):\n",
    "    if tau == 0:\n",
    "        print \"Parameter can't be zero\"\n",
    "        return None\n",
    "    numerator = np.exp( np.array( value_array ) ) / float( tau )\n",
    "    denominator = sum( numerator )\n",
    "    boltzman_distribution = numerator / denominator\n",
    "    choice = boltzman_distribution.argmax()\n",
    "    return choice"
   ]
  },
  {
   "cell_type": "code",
   "execution_count": 28,
   "metadata": {
    "collapsed": false
   },
   "outputs": [],
   "source": [
    "def epsilon_greedy( value_array, probability ):\n",
    "    choice_count = len( value_array )\n",
    "    explore = random_bool( p = probability )\n",
    "    if explore == 1:\n",
    "        choice = np.random.choice(choice_count)\n",
    "        return choice\n",
    "    else:\n",
    "        optimal = value_array.argmax()\n",
    "        return optimal"
   ]
  },
  {
   "cell_type": "code",
   "execution_count": 29,
   "metadata": {
    "collapsed": false
   },
   "outputs": [
    {
     "data": {
      "text/plain": [
       "1"
      ]
     },
     "execution_count": 29,
     "metadata": {},
     "output_type": "execute_result"
    }
   ],
   "source": []
  },
  {
   "cell_type": "code",
   "execution_count": null,
   "metadata": {
    "collapsed": true
   },
   "outputs": [],
   "source": [
    "def learn(self, run_time = None, reward_set = None, decision_rule = None ):\n",
    "        \n",
    "        if run_time == None:\n",
    "            run_time = self.time\n",
    "            \n",
    "        if reward_set == None:\n",
    "            bandits = self.create_bandits( mu = self.mu, sigma = self.sigma, N = run_time )\n",
    "        else:\n",
    "            bandits = reward_set\n",
    "        \n",
    "        \n",
    "        choice_count = len( self.mu )\n",
    "        \n",
    "        \n",
    "        for step in range( run_time ):\n",
    "            "
   ]
  },
  {
   "cell_type": "code",
   "execution_count": 30,
   "metadata": {
    "collapsed": true
   },
   "outputs": [],
   "source": [
    "lol = [[1,23],[5,5],[23,5]]"
   ]
  },
  {
   "cell_type": "code",
   "execution_count": 31,
   "metadata": {
    "collapsed": false
   },
   "outputs": [
    {
     "data": {
      "text/plain": [
       "[[1, 23], [5, 5], [23, 5]]"
      ]
     },
     "execution_count": 31,
     "metadata": {},
     "output_type": "execute_result"
    }
   ],
   "source": [
    "lol"
   ]
  },
  {
   "cell_type": "code",
   "execution_count": 33,
   "metadata": {
    "collapsed": false
   },
   "outputs": [
    {
     "ename": "TypeError",
     "evalue": "list indices must be integers, not tuple",
     "output_type": "error",
     "traceback": [
      "\u001b[0;31m---------------------------------------------------------------------------\u001b[0m",
      "\u001b[0;31mTypeError\u001b[0m                                 Traceback (most recent call last)",
      "\u001b[0;32m<ipython-input-33-d2ff9067ab73>\u001b[0m in \u001b[0;36m<module>\u001b[0;34m()\u001b[0m\n\u001b[0;32m----> 1\u001b[0;31m \u001b[0mlol\u001b[0m\u001b[0;34m[\u001b[0m\u001b[0;36m1\u001b[0m\u001b[0;34m,\u001b[0m\u001b[0;34m:\u001b[0m\u001b[0;34m]\u001b[0m\u001b[0;34m\u001b[0m\u001b[0m\n\u001b[0m",
      "\u001b[0;31mTypeError\u001b[0m: list indices must be integers, not tuple"
     ]
    }
   ],
   "source": []
  },
  {
   "cell_type": "code",
   "execution_count": null,
   "metadata": {
    "collapsed": true
   },
   "outputs": [],
   "source": []
  }
 ],
 "metadata": {
  "kernelspec": {
   "display_name": "Python 2",
   "language": "python",
   "name": "python2"
  },
  "language_info": {
   "codemirror_mode": {
    "name": "ipython",
    "version": 2
   },
   "file_extension": ".py",
   "mimetype": "text/x-python",
   "name": "python",
   "nbconvert_exporter": "python",
   "pygments_lexer": "ipython2",
   "version": "2.7.11"
  }
 },
 "nbformat": 4,
 "nbformat_minor": 0
}

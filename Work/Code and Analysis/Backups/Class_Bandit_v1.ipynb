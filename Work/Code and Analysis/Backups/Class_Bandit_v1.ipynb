{
 "cells": [
  {
   "cell_type": "code",
   "execution_count": 1,
   "metadata": {
    "collapsed": true
   },
   "outputs": [],
   "source": [
    "import random as rd\n",
    "import numpy as np\n",
    "import os \n",
    "import json"
   ]
  },
  {
   "cell_type": "code",
   "execution_count": 2,
   "metadata": {
    "collapsed": true
   },
   "outputs": [],
   "source": [
    "class bandit:\n",
    "    \n",
    "    \"\"\" \n",
    "    SET INITIAL CONDITIONS\n",
    "    \"\"\"\n",
    "    \n",
    "    def __init__( self, mu = [0,0] , sigma = [1,1], N = 10 , seed = None ):\n",
    "        self.mu = mu\n",
    "        self.sigma = sigma\n",
    "        self.N = N\n",
    "        self.seed = seed\n",
    "        if self.seed == None:\n",
    "            self.bandits = self.create_bandits(self.mu,self.sigma,self.N)\n",
    "        else:\n",
    "            rd.seed( self.seed )\n",
    "            self.bandits = self.create_bandits(self.mu,self.sigma,self.N)\n",
    "    \n",
    "    \"\"\" \n",
    "    Function to create bandits\n",
    "    \"\"\"\n",
    "    \n",
    "    def create_bandits(self, mu ,sigma, N ):\n",
    "        n_bandit = len( mu )\n",
    "        bandits = []\n",
    "        for i in range( n_bandit ):\n",
    "            number = self.rnorm( mu[i] , sigma[i] , N )\n",
    "            bandits.append(number)\n",
    "        return bandits\n",
    "    \n",
    "    \"\"\" \n",
    "    Auxilliary functions\n",
    "    \"\"\"\n",
    "    \n",
    "    def rnorm(self, mu, sigma, N ):\n",
    "        number = np.random.normal(mu, sigma, N)\n",
    "        result = number.tolist()\n",
    "        return result"
   ]
  }
 ],
 "metadata": {
  "kernelspec": {
   "display_name": "Python 2",
   "language": "python",
   "name": "python2"
  },
  "language_info": {
   "codemirror_mode": {
    "name": "ipython",
    "version": 2
   },
   "file_extension": ".py",
   "mimetype": "text/x-python",
   "name": "python",
   "nbconvert_exporter": "python",
   "pygments_lexer": "ipython2",
   "version": "2.7.11"
  }
 },
 "nbformat": 4,
 "nbformat_minor": 0
}

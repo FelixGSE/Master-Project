{
 "cells": [
  {
   "cell_type": "markdown",
   "metadata": {},
   "source": [
    "# 1) Import Packages"
   ]
  },
  {
   "cell_type": "code",
   "execution_count": null,
   "metadata": {
    "collapsed": false
   },
   "outputs": [],
   "source": [
    "import matplotlib as plt\n",
    "import numpy as np"
   ]
  },
  {
   "cell_type": "markdown",
   "metadata": {},
   "source": [
    "# 2) Initlize Styling option"
   ]
  },
  {
   "cell_type": "code",
   "execution_count": null,
   "metadata": {
    "collapsed": true
   },
   "outputs": [],
   "source": [
    "personal_green = (14./ 255., 105./ 255., 90./ 255.)\n",
    "personal_blue = (22./ 255., 54./ 255., 92./ 255.)\n",
    "personal_red = (99./ 255., 37./ 255., 35./ 255.)\n",
    "personal_gray = (128./ 255., 128./ 255., 128./ 255.)\n",
    "personal_orange = (186./ 255., 85./ 255., 59./ 255.)\n",
    "personal_beige = (196./ 255., 189./ 255., 151./ 255.)\n",
    "standard_set = [ personal_green, personal_blue, personal_red, personal_gray, personal_orange, personal_beige ]"
   ]
  },
  {
   "cell_type": "markdown",
   "metadata": {},
   "source": [
    "# 3) Lineplot function"
   ]
  },
  {
   "cell_type": "code",
   "execution_count": null,
   "metadata": {
    "collapsed": false
   },
   "outputs": [],
   "source": [
    "\"\"\" \n",
    "UNDER CONSTRUCTION / UNDER CONSTRUCTION / UNDER CONSTRUCTION / UNDER CONSTRUCTION\n",
    "UNDER CONSTRUCTION / UNDER CONSTRUCTION / UNDER CONSTRUCTION / UNDER CONSTRUCTION\n",
    "UNDER CONSTRUCTION / UNDER CONSTRUCTION / UNDER CONSTRUCTION / UNDER CONSTRUCTION\n",
    "UNDER CONSTRUCTION / UNDER CONSTRUCTION / UNDER CONSTRUCTION / UNDER CONSTRUCTION\n",
    "UNDER CONSTRUCTION / UNDER CONSTRUCTION / UNDER CONSTRUCTION / UNDER CONSTRUCTION\n",
    "\"\"\"\n",
    "\n",
    "def lineplot( x , y, color_set = None, label_set = None, xlim = None , ylim = None, \\\n",
    "             save = False,name = \"plot\" ):\n",
    "    \n",
    "    # Import for some reason the package insight beacuse python is blind\n",
    "    import matplotlib.pyplot as plt\n",
    "    \n",
    "    # Define axis length\n",
    "    if xlim == None:\n",
    "        xmin = 0\n",
    "        xmax = max( x )\n",
    "        xlim = [xmin,xmax]\n",
    "    if ylim == None:\n",
    "        ymin = 0\n",
    "        ymax = max(max(y))\n",
    "        ylim = [ymin,ymax]\n",
    "        \n",
    "   \n",
    "    # Define number of lines\n",
    "    lines = len(y)\n",
    "    for line in range(lines):\n",
    "        print line\n",
    "        temp_color = color_set[line]\n",
    "        temp_label = label_set[line]\n",
    "        plt.plot( x , y[line], label = temp_label , color = temp_color ) \n",
    "        \n",
    "    # Define Legend position \n",
    "    plt.legend(bbox_to_anchor=(1, -0.1), ncol=3,loc=0, borderaxespad=0.)\n",
    "    \n",
    "    # Remove plot frame lines and axis ticks\n",
    "    ax = plt.subplot(111)    \n",
    "    ax.spines[\"top\"].set_visible(False)    \n",
    "    ax.spines[\"bottom\"].set_visible(False)    \n",
    "    ax.spines[\"right\"].set_visible(False)    \n",
    "    ax.spines[\"left\"].set_visible(False)       \n",
    "    ax.get_xaxis().tick_bottom()    \n",
    "    ax.get_yaxis().tick_left()    \n",
    "    plt.tick_params(axis = \"both\", which = \"both\", bottom = \"off\", top = \"off\",    \n",
    "                    labelbottom = \"on\", left =\"off\", right = \"off\", labelleft = \"on\") \n",
    "    \n",
    "    # Set x and ylim  \n",
    "    plt.xlim( xlim[0],xlim[1] )\n",
    "    plt.ylim( ylim[0],ylim[1] )    \n",
    "    \n",
    "    # Add grey lines\n",
    "    for y in range(10, 91, 10):    \n",
    "        plt.plot(x, [y] * len(x), \"--\", lw=0.5, color=\"black\", alpha=0.3)    \n",
    "      \n",
    "   \n",
    "    \n",
    "    # Add save option\n",
    "    if save == True:\n",
    "        plt.savefig(name, bbox_inches = \"tight\")\n",
    "        \n",
    "    plt.show()"
   ]
  }
 ],
 "metadata": {
  "kernelspec": {
   "display_name": "Python 2",
   "language": "python",
   "name": "python2"
  },
  "language_info": {
   "codemirror_mode": {
    "name": "ipython",
    "version": 2
   },
   "file_extension": ".py",
   "mimetype": "text/x-python",
   "name": "python",
   "nbconvert_exporter": "python",
   "pygments_lexer": "ipython2",
   "version": "2.7.11"
  }
 },
 "nbformat": 4,
 "nbformat_minor": 0
}
